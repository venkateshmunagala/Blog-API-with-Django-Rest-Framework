{
  "nbformat": 4,
  "nbformat_minor": 0,
  "metadata": {
    "colab": {
      "name": "CNN5.ipynb",
      "version": "0.3.2",
      "provenance": [],
      "collapsed_sections": [],
      "include_colab_link": true
    },
    "kernelspec": {
      "name": "python3",
      "display_name": "Python 3"
    }
  },
  "cells": [
    {
      "cell_type": "markdown",
      "metadata": {
        "id": "view-in-github",
        "colab_type": "text"
      },
      "source": [
        "<a href=\"https://colab.research.google.com/github/venkateshmunagala/Blog-API-with-Django-Rest-Framework/blob/master/CNN5.ipynb\" target=\"_parent\"><img src=\"https://colab.research.google.com/assets/colab-badge.svg\" alt=\"Open In Colab\"/></a>"
      ]
    },
    {
      "cell_type": "code",
      "metadata": {
        "id": "1zzlWXytng3w",
        "colab_type": "code",
        "colab": {}
      },
      "source": [
        "import keras \n",
        "\n",
        "from keras.models import Sequential\n",
        "from keras.layers import Dropout,MaxPooling2D,Conv2D\n",
        "from keras.utils import to_categorical\n",
        "from keras.layers import Dense , BatchNormalization \n",
        "import matplotlib.pyplot as plt \n",
        "from keras.datasets import mnist\n",
        "from keras import backend as k\n",
        "from keras.layers import Flatten"
      ],
      "execution_count": 0,
      "outputs": []
    },
    {
      "cell_type": "code",
      "metadata": {
        "id": "FkpOzzP1nnQv",
        "colab_type": "code",
        "colab": {}
      },
      "source": [
        "x_rows,x_cols=28,28\n",
        "n_classes=10\n",
        "epochs=5\n",
        "batch_size=500\n",
        "(x_train,y_train),(x_test,y_test)=mnist.load_data()\n",
        "\n",
        "if k.image_data_format=='channel_list':\n",
        "    x_train=x_train.reshape(x_train.shape[0],1,x_rows,x_cols)\n",
        "    x_test=x_test.reshape(x_test.shape[0],1,x_rows,x_cols)\n",
        "else:\n",
        "    x_train=x_train.reshape(x_train.shape[0],x_rows,x_cols,1)\n",
        "    x_test=x_test.reshape(x_test.shape[0],x_rows,x_cols,1)\n",
        "    input_shape=(x_rows,x_cols,1)\n",
        "x_train=x_train.astype('float32')\n",
        "x_test=x_test.astype('float32')\n",
        "x_train /= 255\n",
        "x_test /=255\n",
        "\n",
        "print('Training data set shape',x_train.shape)\n",
        "print('Test data set shape',x_test.shape)\n"
      ],
      "execution_count": 0,
      "outputs": []
    },
    {
      "cell_type": "code",
      "metadata": {
        "id": "00cq89B0np8R",
        "colab_type": "code",
        "colab": {}
      },
      "source": [
        "print(y_train[0])\n",
        "y_train=to_categorical(y_train,num_classes=n_classes)\n",
        "y_test=to_categorical(y_test,num_classes=n_classes)\n",
        "print('Format of y train',y_train[0])"
      ],
      "execution_count": 0,
      "outputs": []
    },
    {
      "cell_type": "code",
      "metadata": {
        "id": "f1LEOwMlntk8",
        "colab_type": "code",
        "colab": {}
      },
      "source": [
        "model=Sequential()\n",
        "model.add(Conv2D(64,kernel_size=(2,2),activation='relu',input_shape=input_shape,kernel_initializer='he_uniform',padding='same'))\n",
        "model.add(MaxPooling2D(pool_size=(2,2),strides=(2,2)))\n",
        "model.add(Conv2D(32,kernel_size=(2,2),activation='relu',kernel_initializer='he_uniform',padding='same'))\n",
        "model.add(BatchNormalization())\n",
        "model.add(Dropout(0.2))\n",
        "model.add(MaxPooling2D(pool_size=(2,2),strides=(2,2)))\n",
        "model.add(Conv2D(16,kernel_size=(2,2),activation='relu',kernel_initializer='he_uniform',padding='same'))\n",
        "model.add(BatchNormalization())\n",
        "model.add(Dropout(0.2))\n",
        "\n",
        "model.add(MaxPooling2D(pool_size=(2,2),strides=(2,2)))\n",
        "\n",
        "model.add(Conv2D(16,kernel_size=(2,2),activation='relu',kernel_initializer='he_uniform',padding='same'))\n",
        "model.add(BatchNormalization())\n",
        "model.add(Dropout(0.2))\n",
        "\n",
        "model.add(MaxPooling2D(pool_size=(2,2),strides=(2,2)))\n",
        "\n",
        "model.add(Conv2D(16,kernel_size=(2,2),activation='relu',kernel_initializer='he_uniform',padding='same'))\n",
        "model.add(BatchNormalization())\n",
        "model.add(Dropout(0.2))\n",
        "\n",
        "\n",
        "# Flatten \n",
        "model.add(Flatten())\n",
        "# \n",
        "model.add(Dense(500,activation='relu'))\n",
        "model.add(BatchNormalization())\n",
        "model.add(Dropout(0.2))\n",
        "model.add(Dense(n_classes,activation='softmax'))\n",
        "model.summary()"
      ],
      "execution_count": 0,
      "outputs": []
    },
    {
      "cell_type": "code",
      "metadata": {
        "id": "ZOAjUeLan7pS",
        "colab_type": "code",
        "colab": {}
      },
      "source": [
        "def plt_define(epochs,vy,ty):\n",
        "    fig,ax1=plt.subplots(1,1)\n",
        "    ax1.set_xlabel('Epochs')\n",
        "    ax1.set_ylabel('Loss')\n",
        "    ax1.plot(epochs,vy,label='validation loss',color='r')\n",
        "    ax1.plot(epochs,ty,label='train loss',color='b')\n",
        "    plt.legend()\n",
        "    plt.grid()\n",
        "    fig.canvas.draw()"
      ],
      "execution_count": 0,
      "outputs": []
    },
    {
      "cell_type": "code",
      "metadata": {
        "id": "aB1qpcwmn-Qp",
        "colab_type": "code",
        "colab": {}
      },
      "source": [
        "batch_size=200\n",
        "model.compile(metrics=['accuracy'],optimizer=keras.optimizers.Adam(),loss=keras.losses.binary_crossentropy)\n",
        "model1=model.fit(x_train,y_train,batch_size=batch_size,epochs=epochs,validation_data=(x_test,y_test))\n",
        "score = model.evaluate(x_test, y_test, verbose=0)\n",
        "print('Test loss:', score[0])\n",
        "print('Test accuracy:', score[1])\n",
        "epochs=list(range(1,6))\n",
        "vy=model1.history['val_loss']\n",
        "ty=model1.history['loss']\n"
      ],
      "execution_count": 0,
      "outputs": []
    },
    {
      "cell_type": "code",
      "metadata": {
        "id": "tQn4jgV4EwSn",
        "colab_type": "code",
        "colab": {}
      },
      "source": [
        "plt_define(epochs,vy,ty)"
      ],
      "execution_count": 0,
      "outputs": []
    }
  ]
}